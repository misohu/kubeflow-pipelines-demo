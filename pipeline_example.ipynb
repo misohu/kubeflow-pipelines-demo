{
 "cells": [
  {
   "cell_type": "markdown",
   "id": "9cc680ff-bba3-4410-ac0e-28bc53a5e0e5",
   "metadata": {},
   "source": [
    "# Example of Kubeflow Pipeline from notebook"
   ]
  },
  {
   "cell_type": "code",
   "execution_count": 14,
   "id": "01a72c10-b74c-4ca7-9a7d-a86d5534ec1d",
   "metadata": {},
   "outputs": [
    {
     "name": "stdout",
     "output_type": "stream",
     "text": [
      "Requirement already satisfied: mlflow in /opt/conda/lib/python3.8/site-packages (1.30.0)\n",
      "Requirement already satisfied: boto3 in /opt/conda/lib/python3.8/site-packages (1.25.5)\n",
      "Requirement already satisfied: awscli in /opt/conda/lib/python3.8/site-packages (1.26.5)\n",
      "Requirement already satisfied: pyarrow in /opt/conda/lib/python3.8/site-packages (10.0.0)\n",
      "Requirement already satisfied: sklearn in /opt/conda/lib/python3.8/site-packages (0.0)\n",
      "Requirement already satisfied: importlib-metadata!=4.7.0,<6,>=3.7.0 in /opt/conda/lib/python3.8/site-packages (from mlflow) (4.12.0)\n",
      "Requirement already satisfied: pytz<2023 in /opt/conda/lib/python3.8/site-packages (from mlflow) (2022.2.1)\n",
      "Requirement already satisfied: Flask<3 in /opt/conda/lib/python3.8/site-packages (from mlflow) (2.2.2)\n",
      "Requirement already satisfied: prometheus-flask-exporter<1 in /opt/conda/lib/python3.8/site-packages (from mlflow) (0.20.3)\n",
      "Requirement already satisfied: sqlalchemy<2,>=1.4.0 in /opt/conda/lib/python3.8/site-packages (from mlflow) (1.4.18)\n",
      "Requirement already satisfied: protobuf<5,>=3.12.0 in /opt/conda/lib/python3.8/site-packages (from mlflow) (3.17.3)\n",
      "Requirement already satisfied: pyyaml<7,>=5.1 in /opt/conda/lib/python3.8/site-packages (from mlflow) (5.4.1)\n",
      "Requirement already satisfied: packaging<22 in /opt/conda/lib/python3.8/site-packages (from mlflow) (21.3)\n",
      "Requirement already satisfied: sqlparse<1,>=0.4.0 in /opt/conda/lib/python3.8/site-packages (from mlflow) (0.4.3)\n",
      "Requirement already satisfied: alembic<2 in /opt/conda/lib/python3.8/site-packages (from mlflow) (1.8.1)\n",
      "Requirement already satisfied: databricks-cli<1,>=0.8.7 in /opt/conda/lib/python3.8/site-packages (from mlflow) (0.17.3)\n",
      "Requirement already satisfied: requests<3,>=2.17.3 in /opt/conda/lib/python3.8/site-packages (from mlflow) (2.28.1)\n",
      "Requirement already satisfied: pandas<2 in /opt/conda/lib/python3.8/site-packages (from mlflow) (1.2.4)\n",
      "Requirement already satisfied: scipy<2 in /opt/conda/lib/python3.8/site-packages (from mlflow) (1.7.0)\n",
      "Requirement already satisfied: gitpython<4,>=2.1.0 in /opt/conda/lib/python3.8/site-packages (from mlflow) (3.1.27)\n",
      "Requirement already satisfied: querystring-parser<2 in /opt/conda/lib/python3.8/site-packages (from mlflow) (1.2.4)\n",
      "Requirement already satisfied: entrypoints<1 in /opt/conda/lib/python3.8/site-packages (from mlflow) (0.4)\n",
      "Requirement already satisfied: cloudpickle<3 in /opt/conda/lib/python3.8/site-packages (from mlflow) (2.2.0)\n",
      "Requirement already satisfied: click<9,>=7.0 in /opt/conda/lib/python3.8/site-packages (from mlflow) (8.1.3)\n",
      "Requirement already satisfied: gunicorn<21 in /opt/conda/lib/python3.8/site-packages (from mlflow) (20.1.0)\n",
      "Requirement already satisfied: docker<7,>=4.0.0 in /opt/conda/lib/python3.8/site-packages (from mlflow) (6.0.0)\n",
      "Requirement already satisfied: numpy<2 in /opt/conda/lib/python3.8/site-packages (from mlflow) (1.22.4)\n",
      "Requirement already satisfied: botocore<1.29.0,>=1.28.5 in /opt/conda/lib/python3.8/site-packages (from boto3) (1.28.5)\n",
      "Requirement already satisfied: jmespath<2.0.0,>=0.7.1 in /opt/conda/lib/python3.8/site-packages (from boto3) (1.0.1)\n",
      "Requirement already satisfied: s3transfer<0.7.0,>=0.6.0 in /opt/conda/lib/python3.8/site-packages (from boto3) (0.6.0)\n",
      "Requirement already satisfied: rsa<4.8,>=3.1.2 in /opt/conda/lib/python3.8/site-packages (from awscli) (4.7.2)\n",
      "Requirement already satisfied: colorama<0.4.5,>=0.2.5 in /opt/conda/lib/python3.8/site-packages (from awscli) (0.4.4)\n",
      "Requirement already satisfied: docutils<0.17,>=0.10 in /opt/conda/lib/python3.8/site-packages (from awscli) (0.16)\n",
      "Requirement already satisfied: urllib3<1.27,>=1.25.4 in /opt/conda/lib/python3.8/site-packages (from botocore<1.29.0,>=1.28.5->boto3) (1.26.11)\n",
      "Requirement already satisfied: python-dateutil<3.0.0,>=2.1 in /opt/conda/lib/python3.8/site-packages (from botocore<1.29.0,>=1.28.5->boto3) (2.8.2)\n",
      "Requirement already satisfied: scikit-learn in /opt/conda/lib/python3.8/site-packages (from sklearn) (0.24.2)\n",
      "Requirement already satisfied: Mako in /opt/conda/lib/python3.8/site-packages (from alembic<2->mlflow) (1.2.3)\n",
      "Requirement already satisfied: importlib-resources in /opt/conda/lib/python3.8/site-packages (from alembic<2->mlflow) (5.9.0)\n",
      "Requirement already satisfied: oauthlib>=3.1.0 in /opt/conda/lib/python3.8/site-packages (from databricks-cli<1,>=0.8.7->mlflow) (3.2.0)\n",
      "Requirement already satisfied: six>=1.10.0 in /opt/conda/lib/python3.8/site-packages (from databricks-cli<1,>=0.8.7->mlflow) (1.16.0)\n",
      "Requirement already satisfied: pyjwt>=1.7.0 in /opt/conda/lib/python3.8/site-packages (from databricks-cli<1,>=0.8.7->mlflow) (2.4.0)\n",
      "Requirement already satisfied: tabulate>=0.7.7 in /opt/conda/lib/python3.8/site-packages (from databricks-cli<1,>=0.8.7->mlflow) (0.8.10)\n",
      "Requirement already satisfied: websocket-client>=0.32.0 in /opt/conda/lib/python3.8/site-packages (from docker<7,>=4.0.0->mlflow) (1.4.1)\n",
      "Requirement already satisfied: Werkzeug>=2.2.2 in /opt/conda/lib/python3.8/site-packages (from Flask<3->mlflow) (2.2.2)\n",
      "Requirement already satisfied: Jinja2>=3.0 in /opt/conda/lib/python3.8/site-packages (from Flask<3->mlflow) (3.1.2)\n",
      "Requirement already satisfied: itsdangerous>=2.0 in /opt/conda/lib/python3.8/site-packages (from Flask<3->mlflow) (2.1.2)\n",
      "Requirement already satisfied: gitdb<5,>=4.0.1 in /opt/conda/lib/python3.8/site-packages (from gitpython<4,>=2.1.0->mlflow) (4.0.9)\n",
      "Requirement already satisfied: setuptools>=3.0 in /opt/conda/lib/python3.8/site-packages (from gunicorn<21->mlflow) (65.3.0)\n",
      "Requirement already satisfied: zipp>=0.5 in /opt/conda/lib/python3.8/site-packages (from importlib-metadata!=4.7.0,<6,>=3.7.0->mlflow) (3.8.1)\n",
      "Requirement already satisfied: pyparsing!=3.0.5,>=2.0.2 in /opt/conda/lib/python3.8/site-packages (from packaging<22->mlflow) (3.0.9)\n",
      "Requirement already satisfied: prometheus-client in /opt/conda/lib/python3.8/site-packages (from prometheus-flask-exporter<1->mlflow) (0.14.1)\n",
      "Requirement already satisfied: charset-normalizer<3,>=2 in /opt/conda/lib/python3.8/site-packages (from requests<3,>=2.17.3->mlflow) (2.1.1)\n",
      "Requirement already satisfied: idna<4,>=2.5 in /opt/conda/lib/python3.8/site-packages (from requests<3,>=2.17.3->mlflow) (3.3)\n",
      "Requirement already satisfied: certifi>=2017.4.17 in /opt/conda/lib/python3.8/site-packages (from requests<3,>=2.17.3->mlflow) (2022.6.15)\n",
      "Requirement already satisfied: pyasn1>=0.1.3 in /opt/conda/lib/python3.8/site-packages (from rsa<4.8,>=3.1.2->awscli) (0.4.8)\n",
      "Requirement already satisfied: greenlet!=0.4.17 in /opt/conda/lib/python3.8/site-packages (from sqlalchemy<2,>=1.4.0->mlflow) (1.1.3)\n",
      "Requirement already satisfied: threadpoolctl>=2.0.0 in /opt/conda/lib/python3.8/site-packages (from scikit-learn->sklearn) (3.1.0)\n",
      "Requirement already satisfied: joblib>=0.11 in /opt/conda/lib/python3.8/site-packages (from scikit-learn->sklearn) (1.1.0)\n",
      "Requirement already satisfied: smmap<6,>=3.0.1 in /opt/conda/lib/python3.8/site-packages (from gitdb<5,>=4.0.1->gitpython<4,>=2.1.0->mlflow) (5.0.0)\n",
      "Requirement already satisfied: MarkupSafe>=2.0 in /opt/conda/lib/python3.8/site-packages (from Jinja2>=3.0->Flask<3->mlflow) (2.1.1)\n"
     ]
    }
   ],
   "source": [
    "# Installing extra libs for mlflow integration\n",
    "!pip install mlflow boto3 awscli pyarrow sklearn mlflow"
   ]
  },
  {
   "cell_type": "code",
   "execution_count": 15,
   "id": "a6c963e0-c047-4f9d-a330-581a8e28c942",
   "metadata": {},
   "outputs": [],
   "source": [
    "# Make sure to use up to date kfp (kubeflow pipeline python SDK)\n",
    "!pip install kfp --upgrade -q"
   ]
  },
  {
   "cell_type": "code",
   "execution_count": 16,
   "id": "f0417799-b5fe-42a4-bf9c-86f61328d8f2",
   "metadata": {},
   "outputs": [],
   "source": [
    "import kfp\n",
    "import os\n",
    "\n",
    "from kfp import dsl"
   ]
  },
  {
   "cell_type": "code",
   "execution_count": 17,
   "id": "7798fd2e-9a88-4a9b-b20f-7c6cf5794e8d",
   "metadata": {},
   "outputs": [],
   "source": [
    "# In ordser to write models to model registry we need credetials (we can get those from admission-webhook config)\n",
    "# juju show-unit admission-webhook/0 | yq .admission-webhook/*.relation-info[0].application-data\n",
    "\n",
    "os.environ['MLFLOW_TRACKING_URI'] = \"http://mlflow-server.kubeflow.svc.cluster.local:5000\"\n",
    "os.environ[\"MLFLOW_S3_ENDPOINT_URL\"] = \"http://minio.kubeflow.svc.cluster.local:9000\"\n",
    "os.environ[\"AWS_ACCESS_KEY_ID\"] = \"minio\"\n",
    "os.environ[\"AWS_SECRET_ACCESS_KEY\"] = \"O9YHN0K2DC7BELNFEM3UZQOURGSRSM\"\n",
    "\n",
    "!aws --endpoint-url $MLFLOW_S3_ENDPOINT_URL s3 ls mlflow/0"
   ]
  },
  {
   "cell_type": "code",
   "execution_count": 18,
   "id": "e911815e-a9f6-48d3-aa1e-9cb44f79eb13",
   "metadata": {},
   "outputs": [
    {
     "name": "stdout",
     "output_type": "stream",
     "text": [
      "--2022-11-01 09:12:29--  https://raw.githubusercontent.com/Barteus/kubeflow-examples/main/e2e-wine-kfp-mlflow/winequality-red.csv\n",
      "Resolving raw.githubusercontent.com (raw.githubusercontent.com)... 185.199.109.133, 185.199.110.133, 185.199.111.133, ...\n",
      "Connecting to raw.githubusercontent.com (raw.githubusercontent.com)|185.199.109.133|:443... connected.\n",
      "HTTP request sent, awaiting response... 200 OK\n",
      "Length: 84199 (82K) [text/plain]\n",
      "Saving to: ‘winequality-red.csv.1’\n",
      "\n",
      "winequality-red.csv 100%[===================>]  82.23K  --.-KB/s    in 0.001s  \n",
      "\n",
      "2022-11-01 09:12:34 (74.8 MB/s) - ‘winequality-red.csv.1’ saved [84199/84199]\n",
      "\n"
     ]
    }
   ],
   "source": [
    "# In airgapped environment upload data manually\n",
    "!wget https://raw.githubusercontent.com/Barteus/kubeflow-examples/main/e2e-wine-kfp-mlflow/winequality-red.csv"
   ]
  },
  {
   "cell_type": "code",
   "execution_count": 19,
   "id": "36402d7a-c562-466f-938b-68e9380dcef4",
   "metadata": {},
   "outputs": [],
   "source": [
    "# We can create pipeline component from remote code with the SDK\n",
    "web_downloader_op = kfp.components.load_component_from_url(\n",
    "            'https://raw.githubusercontent.com/kubeflow/pipelines/master/components/contrib/web/Download/component.yaml')"
   ]
  },
  {
   "cell_type": "code",
   "execution_count": 20,
   "id": "98b0e1f0-0af4-4a5f-8751-4002324a545e",
   "metadata": {},
   "outputs": [],
   "source": [
    "# Next we can create as many data Preprocessing task as we need. We put the imports inside function\n",
    "def preprocess(file_path: kfp.components.InputPath('CSV'),\n",
    "              output_file: kfp.components.OutputPath('parquet')):\n",
    "    import pandas as pd\n",
    "    df = pd.read_csv(file_path, header=0, sep=\";\")\n",
    "    df.columns = [c.lower().replace(' ', '_') for c in df.columns]\n",
    "    df.to_parquet(output_file)"
   ]
  },
  {
   "cell_type": "code",
   "execution_count": 21,
   "id": "dfe9143b-1f40-4d2c-a1be-9d1398e9dca9",
   "metadata": {},
   "outputs": [],
   "source": [
    "# Running the task locally for testing purposes\n",
    "preprocess('winequality-red.csv', 'preprocessed.parquet')"
   ]
  },
  {
   "cell_type": "code",
   "execution_count": 22,
   "id": "26261fff-ae2b-43d9-8741-dcd471f20441",
   "metadata": {},
   "outputs": [],
   "source": [
    "# Creating a component from python function with SDK\n",
    "preprocess_op = kfp.components.create_component_from_func(\n",
    "        func=preprocess,\n",
    "        output_component_file='preprocess-component.yaml', # This is optional. It saves the component spec for future use.\n",
    "        base_image='python:3.9', # Any base image we need\n",
    "        packages_to_install=['pandas', 'pyarrow']) # Install additional packages"
   ]
  },
  {
   "cell_type": "code",
   "execution_count": 23,
   "id": "7a3438fc-fbd9-431a-a21e-a46d64766de1",
   "metadata": {},
   "outputs": [],
   "source": [
    "def trainning(file_path: kfp.components.InputPath('parquet'))->str:\n",
    "    import pandas as pd\n",
    "    from sklearn.model_selection import train_test_split\n",
    "    from sklearn.metrics import classification_report\n",
    "    import mlflow\n",
    "    from sklearn.linear_model import ElasticNet\n",
    "    \n",
    "    df = pd.read_parquet(file_path)\n",
    "    \n",
    "    target_column='quality'\n",
    "    train_x, test_x, train_y, test_y = train_test_split(df.drop(columns=[target_column]),\n",
    "                                                    df[target_column], test_size=.25,\n",
    "                                                    random_state=1337, stratify=df[target_column])    \n",
    "   \n",
    "    with mlflow.start_run(run_name='elastic_net_models'):\n",
    "        alpha =  0.5\n",
    "        l1_ratio =  0.5\n",
    "        lr = ElasticNet(alpha=alpha, l1_ratio=l1_ratio, random_state=42)\n",
    "        lr.fit(train_x, train_y)\n",
    "        result = mlflow.sklearn.log_model(lr, \"model\", registered_model_name=\"wine-elasticnet\")\n",
    "        return f\"{mlflow.get_artifact_uri()}/{result.artifact_path}\""
   ]
  },
  {
   "cell_type": "code",
   "execution_count": 24,
   "id": "81b35fb7-5d92-4b31-91d0-612e7f150d2f",
   "metadata": {},
   "outputs": [
    {
     "name": "stderr",
     "output_type": "stream",
     "text": [
      "Successfully registered model 'wine-elasticnet'.\n",
      "2022/11/01 09:12:43 INFO mlflow.tracking._model_registry.client: Waiting up to 300 seconds for model version to finish creation.                     Model name: wine-elasticnet, version 1\n",
      "Created version '1' of model 'wine-elasticnet'.\n"
     ]
    },
    {
     "data": {
      "text/plain": [
       "'s3://mlflow/0/d1f5fc2469fa40de8bd885acb9acf49e/artifacts/model'"
      ]
     },
     "execution_count": 24,
     "metadata": {},
     "output_type": "execute_result"
    }
   ],
   "source": [
    "# Local test \n",
    "trainning('preprocessed.parquet')"
   ]
  },
  {
   "cell_type": "code",
   "execution_count": 25,
   "id": "cce86512-98d2-4a8c-a75b-1b6c7931a0e9",
   "metadata": {},
   "outputs": [],
   "source": [
    "# Same component creation as above\n",
    "training_op = kfp.components.create_component_from_func(\n",
    "        func=trainning,\n",
    "        output_component_file='train-component.yaml', # This is optional. It saves the component spec for future use.\n",
    "        base_image='python:3.9.13',\n",
    "        packages_to_install=['pandas', 'pyarrow', 'sklearn', 'mlflow', 'boto3'])"
   ]
  },
  {
   "cell_type": "code",
   "execution_count": 31,
   "id": "4303e227-d5fa-4cef-aace-240b0f15b392",
   "metadata": {},
   "outputs": [
    {
     "name": "stdout",
     "output_type": "stream",
     "text": [
      "error: failed to create secret secrets \"seldon-init-container-secret\" already exists\n"
     ]
    }
   ],
   "source": [
    "# Create the missing secret for mlflow\n",
    "!kubectl create secret generic seldon-init-container-secret -n user123 \\\n",
    "  --from-literal=RCLONE_CONFIG_S3_TYPE='s3' \\\n",
    "  --from-literal=RCLONE_CONFIG_S3_PROVIDER='minio' \\\n",
    "  --from-literal=RCLONE_CONFIG_S3_ENV_AUTH=false \\\n",
    "  --from-literal=RCLONE_CONFIG_S3_ENDPOINT='http://minio.kubeflow.svc.cluster.local:9000' \\\n",
    "  --from-literal=RCLONE_CONFIG_S3_ACCESS_KEY_ID='minio' \\\n",
    "  --from-literal=RCLONE_CONFIG_S3_SECRET_ACCESS_KEY='O9YHN0K2DC7BELNFEM3UZQOURGSRSM'"
   ]
  },
  {
   "cell_type": "code",
   "execution_count": 26,
   "id": "618bd9b7-8e53-43f7-90f6-a6d41bc3ad8a",
   "metadata": {},
   "outputs": [],
   "source": [
    "# This function deploys the Model stored in Mlfow directly to Cluster with setdon deployment\n",
    "def deploy(model_uri:str = \"default_model_uri\"):\n",
    "    import subprocess\n",
    "    \n",
    "    with open(\"/tmp/manifest.yaml\", \"w\") as f:\n",
    "        manifest = \"\"\"\n",
    "apiVersion: machinelearning.seldon.io/v1\n",
    "kind: SeldonDeployment\n",
    "metadata:\n",
    "  name: mlflow\n",
    "spec:\n",
    "  name: wines\n",
    "  predictors:\n",
    "  - componentSpecs:\n",
    "    - spec:\n",
    "        containers:\n",
    "        - name: classifier\n",
    "          image: seldonio/mlflowserver:1.14.0-dev\n",
    "          imagePullPolicy: Always\n",
    "          livenessProbe:\n",
    "            initialDelaySeconds: 80\n",
    "            failureThreshold: 200\n",
    "            periodSeconds: 5\n",
    "            successThreshold: 1\n",
    "            httpGet:\n",
    "              path: /health/ping\n",
    "              port: http\n",
    "              scheme: HTTP\n",
    "          readinessProbe:\n",
    "            initialDelaySeconds: 80\n",
    "            failureThreshold: 200\n",
    "            periodSeconds: 5\n",
    "            successThreshold: 1\n",
    "            httpGet:\n",
    "              path: /health/ping\n",
    "              port: http\n",
    "              scheme: HTTP\n",
    "    graph:\n",
    "      children: []\n",
    "      implementation: MLFLOW_SERVER\n",
    "      modelUri: \"\"\"+model_uri+\"\"\"\n",
    "      envSecretRefName: seldon-init-container-secret\n",
    "      name: classifier\n",
    "    name: wine-super-model\n",
    "    replicas: 1\n",
    "        \"\"\"\n",
    "        f.write(manifest)\n",
    "    \n",
    "    # Example of how to talk directly to kubeapi\n",
    "    result = subprocess.call(['kubectl', 'apply', '-f', '/tmp/manifest.yaml', '-n', 'user123'])\n",
    "    assert result == 0"
   ]
  },
  {
   "cell_type": "code",
   "execution_count": 27,
   "id": "0217e315-17e1-4c4b-b79c-24cf7dc1de81",
   "metadata": {},
   "outputs": [],
   "source": [
    "deploy_op = kfp.components.create_component_from_func(\n",
    "        func=deploy,\n",
    "        output_component_file='deploy-component.yaml', # This is optional. It saves the component spec for future use.\n",
    "        base_image='bponieckiklotz/seldon-deploy:0.1',\n",
    "        packages_to_install=[])"
   ]
  },
  {
   "cell_type": "code",
   "execution_count": 28,
   "id": "86e77a3c-7c47-4237-92d2-69c92ce1de61",
   "metadata": {},
   "outputs": [],
   "source": [
    "from kubernetes.client.models import V1EnvVar\n",
    "from kfp.onprem import use_k8s_secret\n",
    "\n",
    "@dsl.pipeline(\n",
    "    name=\"e2e_wine_pipeline\",\n",
    "    description=\"WINE pipeline\",\n",
    ")\n",
    "def wine_pipeline(url):\n",
    "    web_downloader_task = web_downloader_op(url=url)\n",
    "    preprocess_task = preprocess_op(file=web_downloader_task.outputs['data'])\n",
    "    \n",
    "    train_task = (training_op(file=preprocess_task.outputs['output'])\n",
    "                 .add_env_variable(V1EnvVar(name='MLFLOW_TRACKING_URI', value='http://mlflow-server.kubeflow.svc.cluster.local:5000'))\n",
    "                 .add_env_variable(V1EnvVar(name='MLFLOW_S3_ENDPOINT_URL', value='http://minio.kubeflow.svc.cluster.local:9000'))\n",
    "                 #https://kubeflow-pipelines.readthedocs.io/en/stable/source/kfp.extensions.html#kfp.onprem.use_k8s_secret\n",
    "                  .apply(use_k8s_secret(secret_name='mlpipeline-minio-artifact', k8s_secret_key_to_env={\n",
    "                     'accesskey': 'AWS_ACCESS_KEY_ID',\n",
    "                     'secretkey': 'AWS_SECRET_ACCESS_KEY',\n",
    "                 })))\n",
    "    deploy_task = deploy_op(model_uri=train_task.output)"
   ]
  },
  {
   "cell_type": "code",
   "execution_count": 29,
   "id": "fd9b56e5-270e-4727-8c8f-240c7174da4c",
   "metadata": {},
   "outputs": [
    {
     "data": {
      "text/html": [
       "<a href=\"/pipeline/#/experiments/details/2759a21c-f087-4c2e-8188-b67780ccfca0\" target=\"_blank\" >Experiment details</a>."
      ],
      "text/plain": [
       "<IPython.core.display.HTML object>"
      ]
     },
     "metadata": {},
     "output_type": "display_data"
    },
    {
     "data": {
      "text/html": [
       "<a href=\"/pipeline/#/runs/details/d11c73be-6fbb-4a67-a711-98e64284b5f3\" target=\"_blank\" >Run details</a>."
      ],
      "text/plain": [
       "<IPython.core.display.HTML object>"
      ]
     },
     "metadata": {},
     "output_type": "display_data"
    },
    {
     "data": {
      "text/plain": [
       "RunPipelineResult(run_id=d11c73be-6fbb-4a67-a711-98e64284b5f3)"
      ]
     },
     "execution_count": 29,
     "metadata": {},
     "output_type": "execute_result"
    }
   ],
   "source": [
    "client = kfp.Client()\n",
    "client.create_run_from_pipeline_func(\n",
    "    wine_pipeline,\n",
    "    arguments={\n",
    "        \"url\": \"https://raw.githubusercontent.com/Barteus/kubeflow-examples/main/e2e-wine-kfp-mlflow/winequality-red.csv\",\n",
    "    })"
   ]
  },
  {
   "cell_type": "code",
   "execution_count": 30,
   "id": "65875da9-139b-40bd-8509-30c833a5de3a",
   "metadata": {},
   "outputs": [
    {
     "name": "stdout",
     "output_type": "stream",
     "text": [
      "{\"data\":{\"names\":[],\"ndarray\":[5.741928028712652]},\"meta\":{\"requestPath\":{\"classifier\":\"seldonio/mlflowserver:1.14.0-dev\"}}}\n"
     ]
    }
   ],
   "source": [
    "!curl  -s http://10.152.183.242:8000/api/v0.1/predictions \\\n",
    "  -H \"Content-Type: application/json\" \\\n",
    "  -d '{\"data\":{\"ndarray\":[[10.1, 0.37, 0.34, 2.4, 0.085, 5.0, 17.0, 0.99683, 3.17, 0.65, 10.6]]}}'"
   ]
  },
  {
   "cell_type": "code",
   "execution_count": null,
   "id": "0434cdf9-100f-42c0-8575-8c4598f9103f",
   "metadata": {},
   "outputs": [],
   "source": []
  }
 ],
 "metadata": {
  "kernelspec": {
   "display_name": "Python 3 (ipykernel)",
   "language": "python",
   "name": "python3"
  },
  "language_info": {
   "codemirror_mode": {
    "name": "ipython",
    "version": 3
   },
   "file_extension": ".py",
   "mimetype": "text/x-python",
   "name": "python",
   "nbconvert_exporter": "python",
   "pygments_lexer": "ipython3",
   "version": "3.9.0"
  },
  "vscode": {
   "interpreter": {
    "hash": "635db5889a8e7f14dda695c20229a76694a8038f010b71edc7a46486e7214d7d"
   }
  }
 },
 "nbformat": 4,
 "nbformat_minor": 5
}
